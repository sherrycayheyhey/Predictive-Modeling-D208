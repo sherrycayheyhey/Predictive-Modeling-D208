{
 "cells": [
  {
   "cell_type": "markdown",
   "id": "ac99ead4",
   "metadata": {},
   "source": [
    "parallel slopes regression with one numeric and one categorical explanatory variable, the first step toward conquering multiple linear regression\n",
    "\n"
   ]
  }
 ],
 "metadata": {
  "kernelspec": {
   "display_name": "Python 3 (ipykernel)",
   "language": "python",
   "name": "python3"
  },
  "language_info": {
   "codemirror_mode": {
    "name": "ipython",
    "version": 3
   },
   "file_extension": ".py",
   "mimetype": "text/x-python",
   "name": "python",
   "nbconvert_exporter": "python",
   "pygments_lexer": "ipython3",
   "version": "3.9.7"
  }
 },
 "nbformat": 4,
 "nbformat_minor": 5
}
