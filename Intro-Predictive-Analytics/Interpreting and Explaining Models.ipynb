{
 "cells": [
  {
   "cell_type": "markdown",
   "id": "5d39a4de",
   "metadata": {},
   "source": [
    "#### Predictor Insight Graphs\n",
    "\n",
    "in a typical predictive modeling project you proceed as follows when you need to make a predictive model:\n",
    "1. build the predictive model \n",
    "2. evaluate the model using AUC accuracy metric\n",
    "3. evaluate the model using cumulative gaains and lift curves\n",
    "4. verify whether the variables in the model are interpretable, do the link between these variables and the target make sense? (predictor insight graphs can be used)\n",
    "\n",
    "if the variable is continuous an addition discretization step that divides the continuous varible in bins is needed \n",
    "\n",
    "constructing a pig\n",
    "- discretization of variable if continuous\n",
    "- calculate predictor insight graph table, this lets you calculate the values that are needed to make the plot \n",
    "- plot it and interpret \n"
   ]
  },
  {
   "cell_type": "code",
   "execution_count": null,
   "id": "dd94877f",
   "metadata": {},
   "outputs": [],
   "source": [
    "# access elements in the predictor insight graph table using indexing\n",
    "print(pig_table['size'][income=='low'])"
   ]
  },
  {
   "cell_type": "code",
   "execution_count": null,
   "id": "853be4c2",
   "metadata": {},
   "outputs": [],
   "source": [
    "# example exercise\n",
    "# The target incidence of USA and India donors is the same, \n",
    "# indicating that country is not a good variable to predict donations.\n",
    "\n",
    "# Inspect the predictor insight graph table of Country\n",
    "print(pig_table)\n",
    "\n",
    "# Print the number of UK donors\n",
    "print(pig_table[\"Size\"][pig_table[\"Country\"]==\"UK\"])\n",
    "\n",
    "# Check the target incidence of USA and India donors\n",
    "print(pig_table[\"Incidence\"][pig_table[\"Country\"]==\"USA\"])\n",
    "print(pig_table[\"Incidence\"][pig_table[\"Country\"]==\"India\"])"
   ]
  },
  {
   "cell_type": "markdown",
   "id": "a9537685",
   "metadata": {},
   "source": [
    "#### Discretization of Continuous Variables \n",
    "\n",
    "the first step of creating predictor insight graphs is the discretize the continous variables\n",
    "you can discretize pandas columns using qcut()"
   ]
  },
  {
   "cell_type": "code",
   "execution_count": null,
   "id": "930aec50",
   "metadata": {},
   "outputs": [],
   "source": [
    "# divide the variable maximum gift into 3 bins of equal size\n",
    "variable = \"max_gift\"\n",
    "number_bins = 3\n",
    "basetable[\"disc_max_gift\"] = pd.qcut(basetable[variable], number_bins)\n",
    "# output is a new column that can be added to the basetable\n",
    "\n",
    "# to check that the qcut method divided the variable in equal size bins, use groupby() and size() methods\n",
    "basetable.groupby(\"disc_max_gift\").size()\n",
    "\n"
   ]
  },
  {
   "cell_type": "code",
   "execution_count": null,
   "id": "37b42587",
   "metadata": {},
   "outputs": [],
   "source": [
    "# if you have a bunch of continuous variables\n",
    "# first figure out which variables are continuous then loop over them to discretize them \n",
    "# list of variables\n",
    "variables_model = [\"income_average\", \"mean_gift\", \"gender_M\", \"min_gift\", \"age\"]\n",
    "# not all of these make sense to discretize, variables like gender_M and income_average only take 2 values\n",
    "# here's a function to check whether a variable should be discretized\n",
    "def check_discretize(basetable, variable, threshold):\n",
    "    return(len(basetable.groupby(variable)) > threshold)\n",
    "# returs True if the number is higher than the threshold and False otherwise\n",
    "check_discretize(basetable, \"mean_gift\", 5)\n",
    "\n",
    "# with this function you can loop through all the variables and only discretize those that need to be\n",
    "threshold = 5\n",
    "number_bins = 5\n",
    "for variable in variables_model:\n",
    "    if check_discretize(basetable, variable, threshold):\n",
    "        new_variable = \"disc\" + variable\n",
    "        basetable[new_variable] = pd.qcut(basetable[variable], number_bins)"
   ]
  },
  {
   "cell_type": "code",
   "execution_count": null,
   "id": "a9ab8a1b",
   "metadata": {},
   "outputs": [],
   "source": [
    "# clean cuts, you can specify the wanted cuts\n",
    "# qcut() divides the variable in equal size bins but sometimes this makes ugly intervals \n",
    "basetable[\"disc_age\"] = pd.cut(basetable[\"age\"], [18, 30, 40, 50, 60, 110])\n",
    "basetable.groupby(\"disc_age\").size()\n",
    "# this won't have equal bin sizes but the result is much easier to read and interpret \n",
    "# suggested workflow is to use qcut to see how the bins should be chosen and then clean up the cuts"
   ]
  },
  {
   "cell_type": "code",
   "execution_count": null,
   "id": "21af348d",
   "metadata": {},
   "outputs": [],
   "source": [
    "# example exercise\n",
    "# Print the columns in the original basetable\n",
    "print(basetable.columns)\n",
    "\n",
    "# Get all the variable names except \"target\"\n",
    "variables = list(basetable.columns)\n",
    "variables.remove(\"target\")\n",
    "\n",
    "# Loop through all the variables and discretize in 10 bins if there are more than 5 different values\n",
    "for variable in variables:\n",
    "    if len(basetable.groupby(variable))>5:\n",
    "        new_variable = \"disc_\" + variable\n",
    "        basetable[new_variable] = pd.qcut(basetable[variable], 10)\n",
    "        \n",
    "# Print the columns in the new basetable\n",
    "print(basetable.columns)"
   ]
  },
  {
   "cell_type": "code",
   "execution_count": null,
   "id": "c3747b4e",
   "metadata": {},
   "outputs": [],
   "source": [
    "# example exercise, clean cuts\n",
    "# notice how the range works to put it into 3 groups 0-5, 5-10, 10-20\n",
    "# Discretize the variable \n",
    "basetable[\"disc_number_gift\"] = pd.cut(basetable[\"number_gift\"],[0, 5, 10, 20])\n",
    "\n",
    "# Count the number of observations per group\n",
    "print(basetable.groupby(\"disc_number_gift\").size())"
   ]
  },
  {
   "cell_type": "markdown",
   "id": "5a21e849",
   "metadata": {},
   "source": [
    "#### Preparing the Predictor Insight Graph Table\n",
    "\n",
    "the predictor insight graph table has all the info you need to create the pig\n",
    "it has one row for each group in the variable that you want to plot and 3 columns\n",
    "* the first column is the name of the groups or the names of the intervals it was discretized in if it's a continuous variable \n",
    "* the second column shows the average target incidence of the group, what is the mean target in this group\n",
    "* the third column shows the size of each group, the number of observations that belong to the particular group "
   ]
  },
  {
   "cell_type": "code",
   "execution_count": null,
   "id": "f1d02ef0",
   "metadata": {},
   "outputs": [],
   "source": [
    "# a function to create the pig table\n",
    "import numpy as np\n",
    "\n",
    "def create_pig_table(df, target, variable):\n",
    "    # group by the variable you want to plot, you only need the variable and target values for these groups\n",
    "    groups = df[[target, variable]].groupby(variable)\n",
    "    # use the aggregrate function on these groups to create 2 columns\n",
    "    # calculate the size and and incidence of each group\n",
    "    pig_table = groups[target].agg({\"Incidence\" : np.mean, \"Size\":np.size}).reset_index()\n",
    "    return pig_table\n",
    "\n",
    "print(create_pig_table(basetable, \"target\", \"country\"))"
   ]
  },
  {
   "cell_type": "code",
   "execution_count": null,
   "id": "3df7ce11",
   "metadata": {},
   "outputs": [],
   "source": [
    "# calculate multiple predictor insight graph tables \n",
    "# instead of doing them one-by-one you could do them automatically and store the pigs in a dictionary\n",
    "# for example, you want to graph these 4 variables\n",
    "variables = [\"country\", \"gender\", \"disc_mean_gift\", \"age\"]\n",
    "# create an empty dictionary, this will keep track of the pig tables\n",
    "pig_tables = {}\n",
    "# loop over the variables and calculate the pig tables each time\n",
    "for variable in variables:\n",
    "    # create the pig table\n",
    "    pig_table = create_pig_table(basetable, \"target\", variable)\n",
    "    # store the table in the dictionary, the key is the name of the variables\n",
    "    pig_tables[variable] = pig_table\n",
    "    \n",
    "# if you want to plot a specific variable you can look up the pig in the dictionary\n",
    "print(create_pig_table(basetable, \"target\", \"country\"))"
   ]
  },
  {
   "cell_type": "markdown",
   "id": "874d15df",
   "metadata": {},
   "source": [
    "#### Plotting the Predictor Insight Graph\n",
    "\n",
    "once you have the table ready it's easy to create the final pig that can be used to interpret your model\n",
    "\n",
    "the graph will be plotted in two steps\n",
    "1. plot the target incidence line\n",
    "2. plot the bars that show the group size"
   ]
  },
  {
   "cell_type": "code",
   "execution_count": null,
   "id": "41bcf7db",
   "metadata": {},
   "outputs": [],
   "source": [
    "# plot the target incidence\n",
    "import matplotlib.pyplot as plt\n",
    "import numpy as np\n",
    "\n",
    "# assume the pig table is already loaded in the pig_table variable\n",
    "pig_table[\"Incidence\"].plot()\n",
    "# this graph will need some editing to make it interpretable\n",
    "# first show the group names on the horizontal axis\n",
    "plt.xticks(np.arange(len(pig_table)), pig_table[\"income\"])\n",
    "# second center the groups be adding margins to the left and right\n",
    "width = 0.5\n",
    "plt.xlim([-width, len(pig_table)-width])\n",
    "# finally, add label to the vertical axis and another to the horizontal axis\n",
    "plt.ylabel(\"Incidence\", rotation=0, rotation_mode=\"anchor\", ha=\"right\")\n",
    "plt.xlabel(\"Income\")\n",
    "plt.show()"
   ]
  },
  {
   "cell_type": "code",
   "execution_count": null,
   "id": "c25a22df",
   "metadata": {},
   "outputs": [],
   "source": [
    "# add the graphs with the sizes by changing 3 lines of code\n",
    "# assume the pig table is already loaded in the pig_table variable\n",
    "# plot the graph\n",
    "plt.ylabel(\"Size\", rotation = 0, rotation_mode=\"anchor\", ha=\"right\")\n",
    "pig_table[\"Incidence\"].plot(secondary_y = True)\n",
    "# plot the bars, the kind argument means you plot bars instead of the default line, width is bar size\n",
    "pig_table[\"Size\"].plot(kind=\"bar\", width=0.5, color=\"lightgray\", edgecolor=\"none\")\n",
    "# this graph will need some editing to make it interpretable\n",
    "# first show the group names on the horizontal axis\n",
    "plt.xticks(np.arange(len(pig_table)), pig_table[\"income\"])\n",
    "# second center the groups be adding margins to the left and right\n",
    "width = 0.5\n",
    "plt.xlim([-width, len(pig_table)-width])\n",
    "# finally, add label to the vertical axis and another to the horizontal axis\n",
    "plt.ylabel(\"Incidence\", rotation=0, rotation_mode=\"anchor\", ha=\"right\")\n",
    "plt.xlabel(\"Income\")\n",
    "plt.show()"
   ]
  }
 ],
 "metadata": {
  "kernelspec": {
   "display_name": "Python 3 (ipykernel)",
   "language": "python",
   "name": "python3"
  },
  "language_info": {
   "codemirror_mode": {
    "name": "ipython",
    "version": 3
   },
   "file_extension": ".py",
   "mimetype": "text/x-python",
   "name": "python",
   "nbconvert_exporter": "python",
   "pygments_lexer": "ipython3",
   "version": "3.9.7"
  }
 },
 "nbformat": 4,
 "nbformat_minor": 5
}
