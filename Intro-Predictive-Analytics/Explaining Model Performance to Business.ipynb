{
 "cells": [
  {
   "cell_type": "markdown",
   "id": "6c777ae6",
   "metadata": {},
   "source": [
    "#### The Cumulative Gains Curve\n",
    "\n",
    "this section will be about visualizations of model performance that are relevant for business\n",
    "\n",
    "the auc is very useful for data scientist but it's complex and a single number (doesn't catch all the info about the model) and less appropriate if you want to discuss your models with business stakeholders\n",
    "\n",
    "the cumulative gains curve is easy to explain and can guide you to better business decisions\n",
    "to make a cumulative gains curve:\n",
    "- order all the observations according to the output of the model\n",
    "- the left hand side are the observations that have the highest probability to be the target according to the model\n",
    "- on the right hand side are observations with the lowest probability to be target\n",
    "- the horizontal axis has the percentage of observations that is considered, for example at 30% the top 30% of observations with the highest probability to be target is considered\n",
    "- the vertical axis is which percentage of all targets is included in this group, for example if the cumulative gains is 70% at 30% it means that when taking the top 30% of observations with highest probability to be target, this group already contains 70% of all targets\n",
    "\n",
    "the cumulative gains model is good for comparing models\n",
    "being in the upper left corner is a better model \n",
    "sometimes two models will have curves that cross each other, making deciding which one is better more difficult \n",
    "you might end up with something like model 2 is better for the top 10% and model 1 is better to distinguish the top 70% of the observations from the rest"
   ]
  },
  {
   "cell_type": "code",
   "execution_count": null,
   "id": "3ec934a6",
   "metadata": {},
   "outputs": [],
   "source": [
    "# cumulative gains \n",
    "import scikitplot as skplt\n",
    "import matplotlib.pyplot as plt\n",
    "\n",
    "# the first argument is an array with the true values of the target\n",
    "# the second argument is the predictions for the observations resulting from the model\n",
    "# predictions should have both the predictions for the target to be 1 as well as the target to be 0\n",
    "skplt.metrics.plot_cumulative_gain(true_values, predictions)\n",
    "plt.show()"
   ]
  },
  {
   "cell_type": "markdown",
   "id": "d2f2b02a",
   "metadata": {},
   "source": [
    "#### The Lift Curve\n",
    "\n",
    "the lift curve is another widely used visualization of model performance\n",
    "\n",
    "to construct a lift curve:\n",
    "- order all the observations according to the output of the model\n",
    "- the horizontal axis has which percentage of the observations is considered \n",
    "- the vertical axis has how many times more than average targets are included in this group\n",
    "\n",
    "if the lift is at 50% and the top 50% observations contains 10% targets then the lift will be 2 at 50% because 10% is 2 times 5% (the average percentage of targets)\n",
    "\n",
    "a random model will have about an equal percentage of targets for each group so the baseline is 1\n",
    "\n",
    "better models have higher lifts, higher curves mean better accuracy\n",
    "just like cumulative gains curves, models can cross each other, so one can be higher at 10% and the other could be higher at 80%, and it'll be harder to say which model is best because it'll depend on the situation "
   ]
  },
  {
   "cell_type": "code",
   "execution_count": null,
   "id": "9fbfe015",
   "metadata": {},
   "outputs": [],
   "source": [
    "# lift curve\n",
    "import scikitplot as skplt\n",
    "import matplotlib.pyplot as plt\n",
    "\n",
    "# the first argument is an array with the true values of the target\n",
    "# the second argument has the model predictions for the population\n",
    "skplt.metrics.plot_lift_curve(true_values, predictions)\n",
    "plt.show()"
   ]
  },
  {
   "cell_type": "markdown",
   "id": "1c7a93c8",
   "metadata": {},
   "source": [
    "#### Guiding Business to Better Decisions\n",
    "\n",
    "lift graphs and cumulative gains are great tools to help make better business decisions\n",
    "\n",
    "lift graphs can be used to estimate the profit that you can make with a campaign, for example a population of 100,000 candidate donors and 5% among those candidate donors is target, targets are expected to donate $50 and sending a litter to the donor costs $2, given that info you could calculate the expected profit of the campaign, as seen in the code below\n",
    "\n",
    "the cumulative gains graph can be used to decide how many donors should be targeted if you want to make a certain profit, you have a pool of 1,000,000 candidate donors with 2% targets but you don't want to send an email to everyone because you don't want to bother candidate donors that aren't interested in donating for this campaign, you'd build a model (cumulative gains graph) to predict which candidate donors are most likely to donate"
   ]
  },
  {
   "cell_type": "code",
   "execution_count": null,
   "id": "cc4cfc36",
   "metadata": {},
   "outputs": [],
   "source": [
    "# estimating profit with lift graphs\n",
    "population_size = 100000\n",
    "target_incidence = 0.05\n",
    "reward_target = 50\n",
    "cost_campaign = 2\n",
    "\n",
    "# the profit depends on the 5 elements passed it\n",
    "def profit(perc_targets, perc_selected, population_size, reward_target, cost_campaign):\n",
    "    cost = cost_campaign * perc_selected * population_size\n",
    "    reward = reward_target * perc_targets * perc_selected * population_size\n",
    "    return(reward - cost)\n",
    "\n",
    "# address the top 20% of donors with the highest probability to donate according to the model\n",
    "perc_selected = 0.20\n",
    "lift = 2.5\n",
    "perc_targets = lift * target_incidence\n",
    "print(profit(perc_targets, perc_selected, population_size, reward_target, cost_campaign))\n",
    "# from the lift curve you can see that the lift at 20% is 2.5 which means that the top 20% contains 10% targets\n",
    "# using the profit() function will tell you that this results in a profit of $60,000 (a good result) \n",
    "\n",
    "# if you addressed all candidate donors\n",
    "print(profit(target_incidence, 1, population_size, reward_target, cost_campaign))\n",
    "# you would expect to have a $50,000 loss (ouch!)"
   ]
  },
  {
   "cell_type": "code",
   "execution_count": null,
   "id": "bb27c6b2",
   "metadata": {},
   "outputs": [],
   "source": [
    "# how many candidates to target with cumulative gains \n",
    "population_size = 1000000\n",
    "target_incidence = 0.02\n",
    "# number of targets you want to reach\n",
    "number_targets_to_reach = 16000 # this is 80% of all targets\n",
    "perc_targets = number_targets_to_reach / (target_incidence * population_size)\n",
    "print(perc_targets_to_reach)\n",
    "# you could then read from the cumulative gains curve that to reach 80% targets you would need to address \n",
    "# the top 60% of the candidate donors which is 600,000 donors\n",
    "cumulative_gains = 0.06\n",
    "# number of donors to reach\n",
    "number_donors_to_reach = cumulative_gains * population_size\n",
    "print(number_donors_to_reach)\n",
    "# you'll see that the answer is to send it to 600,000 donors and without using this model you would have had to send the email to\n",
    "# 800,000 donors in order to reach the same number of targets "
   ]
  },
  {
   "cell_type": "code",
   "execution_count": null,
   "id": "ef9ced07",
   "metadata": {},
   "outputs": [],
   "source": [
    "# exercise example, comparing targeted campaign versus all\n",
    "# Read the lift at 40% (round it up to the upper tenth)\n",
    "perc_selected = 0.4\n",
    "lift = 1.5\n",
    "\n",
    "# Information about the campaign\n",
    "population_size, target_incidence, campaign_cost, campaign_reward = 100000, 0.01, 1, 100\n",
    "    \n",
    "# Profit if all donors are targeted\n",
    "profit_all = profit(target_incidence, 1, population_size, campaign_cost, campaign_reward)\n",
    "print(profit_all)\n",
    "\n",
    "# Profit if top 40% of donors are targeted\n",
    "profit_40 = profit(lift * target_incidence, 0.4, population_size, campaign_cost, campaign_reward)\n",
    "print(profit_40)"
   ]
  },
  {
   "cell_type": "code",
   "execution_count": null,
   "id": "7e735fd9",
   "metadata": {},
   "outputs": [],
   "source": [
    "# exercise example, how many customers to target to reach goal\n",
    "# If one knows the reward of a campaign, it follows easily how many donors should be targeted to reach a certain profit.\n",
    "\n",
    "# Plot the cumulative gains\n",
    "skplt.metrics.plot_cumulative_gain(targets_test, predictions_test)\n",
    "plt.show()\n",
    "\n",
    "# Number of targets you want to reach\n",
    "number_targets_toreach = 30000 / 50\n",
    "perc_targets_toreach = number_targets_toreach / 1000\n",
    "cumulative_gains = 0.4\n",
    "number_donors_toreach = cumulative_gains * 10000\n",
    "# you would need to address 4000 donors"
   ]
  }
 ],
 "metadata": {
  "kernelspec": {
   "display_name": "Python 3 (ipykernel)",
   "language": "python",
   "name": "python3"
  },
  "language_info": {
   "codemirror_mode": {
    "name": "ipython",
    "version": 3
   },
   "file_extension": ".py",
   "mimetype": "text/x-python",
   "name": "python",
   "nbconvert_exporter": "python",
   "pygments_lexer": "ipython3",
   "version": "3.9.7"
  }
 },
 "nbformat": 4,
 "nbformat_minor": 5
}
