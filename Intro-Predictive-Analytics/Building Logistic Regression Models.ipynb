{
 "cells": [
  {
   "cell_type": "markdown",
   "id": "571dd6e2",
   "metadata": {},
   "source": [
    "#### Introduction and Base Table Structure\n",
    "\n",
    "predictive analytics is the process that aims to predict an event using historical data \n",
    "that data is gathered in the analytical basetable \n",
    "it's usually stored in a pandas dataframe\n",
    "the 3 important concepts in the analytical basetable are: \n",
    "- the population, the group of people or objects you want to make a prediction for (the donors that are in scope of recieving a letter), the basetable has one row for each object in the population\n",
    "- the candidate predictors, describe the objects in the population, info that can be used to predict  the event (variables like age, gender, previous gift could be used to predict whether someone will donate for a future project)\n",
    "- and the target, information about the event to predict, it's 1 if the event occurs and 0 otherwise\n",
    "\n",
    "predictive analytics can do things like help you to determine the donors that are most likely to donate (instead of sending letters to all donors, you could target those one's specifically)\n",
    "\n",
    "the basetable will be historic\n",
    "you can look at a similar event, like a different fundraising campaign in the past, then construct the basetable from the data available at that time, the target will be whether the donor donated for the historical campaign, the candidate predictors are derived from the information that was available at that time\n",
    "a predictive model will then be constructed that will link the candidate predictors with the target in the basetable\n",
    "this predictive model can then be used to predict the current event, the candidate predictors are available and are used as the input for the model "
   ]
  },
  {
   "cell_type": "code",
   "execution_count": null,
   "id": "3127d810",
   "metadata": {},
   "outputs": [],
   "source": [
    "# the analytical basetable\n",
    "import pandas as pd\n",
    "\n",
    "basetable = pd.DataFrame(\"import_basetable.csv\")\n",
    "\n",
    "# check the size of the population, hov many rows?\n",
    "population_size = len(basetable)\n",
    "\n",
    "# count the number of targets\n",
    "targets = sum(basetable[\"Targets\"])\n",
    "\n",
    "# target incidence, the ratio of targets and population\n",
    "print(targets / population_size)\n",
    "\n",
    "# Count and print the number of females.\n",
    "print(sum(basetable[\"gender\"] == \"F\"))"
   ]
  },
  {
   "cell_type": "markdown",
   "id": "40ec2d5f",
   "metadata": {},
   "source": [
    "#### Logistic Regression\n",
    "\n",
    "logistic regression is a widely used modeling technique\n",
    "\n",
    "here we'll learn how logistic regression predicts the target from candidate predictors and how to use logistic regression\n",
    "\n",
    "for a linear regression the output could be any number but logistic regression is used because you want a probability as the output, a value from 0-1 (will donate or won't donate) that expresses how likely it is that someone will donate \n",
    "\n",
    "logistic regression takes a regression formula as input and calculates a probability from it, this is a mathematical trick that let's you use linear regression for binary classification probelms\n",
    "\n",
    "logistic regression, the logit function:\n",
    "- output of a*age+b is a real number\n",
    "- we want to predict a 0 or 1\n",
    "- the logit() function transforms a*age+b to a probability \n"
   ]
  },
  {
   "cell_type": "code",
   "execution_count": null,
   "id": "718a7f02",
   "metadata": {},
   "outputs": [],
   "source": [
    "# build a logistic regression model\n",
    "from sklearn import linear_model \n",
    "\n",
    "# create a logistic regression model object \n",
    "logreg = linear_model.LogisticRegression()\n",
    "\n",
    "# feed data to the logistic regression model so it can be fit\n",
    "X = basetable[[\"age\"]] # predictor\n",
    "y = basetable[[\"target\"]] # target\n",
    "logreg.fit(X, y)\n",
    "\n",
    "# the model is fit so now observe the coefficient that correstponds with the predictor age by checking the coif value of the fitted model\n",
    "print(logreg.coef_)\n",
    "\n",
    "# to derive the entire formula from the fitted model, retrieve the intercept value\n",
    "\n",
    "# so far we've assumed that there was only one predictor but there are many candidate predictors available in the basetable \n",
    "# extending univariate logistic regression to multivariate logistic regression is pretty easy, instead of ax+b you can add\n",
    "# multiple predictors in the formula, for python nothing will change except you'll select multiple variables in the X object\n",
    "\n",
    "# multivariate\n",
    "X = basetable[[\"age\", \"max_gift\", \"income_low\"]] # predictors\n",
    "y = basetable[[\"target\"]] # target\n",
    "logreg.fit(X, y)\n",
    "# outputting the coefficients will show that for each predictor used, a coefficient has been calculated\n",
    "print(logreg.coef_)\n",
    "# positive coefficients are positively correlated with the target and negative coefficients are negatively correlated with it\n",
    "# Assign the intercept to the variable intercept\n",
    "intercept = logreg.intercept_\n",
    "print(intercept)"
   ]
  },
  {
   "cell_type": "markdown",
   "id": "238d209b",
   "metadata": {},
   "source": [
    "#### Using the Logistic Regression Model\n",
    "\n",
    "the above is how to build a logistic regression model and here we'll learn how to make predictions with it \n",
    "\n",
    "a logistic regression model is a linear regression formula wrapped in a logit function, so all you need to do is replace the predictors with the values you want (female, age 72, 120 days since last donation) and then put the result in the logit function, but luckily we don't have to calculate all this by hand :) \n",
    "if you collect this data in a list (the sex, age, days), making sure they're in the same order as in the logistic regression model, you can calculate the prediction by feeding the list as a parameter to the predict_proba mothed on the logreg object"
   ]
  },
  {
   "cell_type": "code",
   "execution_count": null,
   "id": "d4c5d002",
   "metadata": {},
   "outputs": [],
   "source": [
    "# making predictions\n",
    "logreg.predict_proba([1, 72, 120])\n",
    "# the output will be an array with 2 numbers: the first one is the probability that the donor will not donate, target 0\n",
    "# the second one is the probability that the donor will donate, target 1\n",
    "# you could then compare this to the probability that someone in the overall population would donate (about 5% so old lady is a high result)"
   ]
  },
  {
   "cell_type": "code",
   "execution_count": null,
   "id": "3f8a9df1",
   "metadata": {},
   "outputs": [],
   "source": [
    "# making predictions for a large group of people\n",
    "# to decide which donors to send a letter to you could make predictions for the entire population and then send letters\n",
    "# to the donors with the highest probabilities only\n",
    "new_data = current_data[[\"gender_F\", \"age\", \"time_since_last_gift\"]]\n",
    "predictions = logreg.predict_proba(new_data)"
   ]
  },
  {
   "cell_type": "code",
   "execution_count": null,
   "id": "e7bbc626",
   "metadata": {},
   "outputs": [],
   "source": [
    "# example exercise\n",
    "# Fit a logistic regression model\n",
    "from sklearn import linear_model\n",
    "X = basetable[[\"age\",\"gender_F\",\"time_since_last_gift\"]]\n",
    "y = basetable[[\"target\"]]\n",
    "logreg = linear_model.LogisticRegression()\n",
    "logreg.fit(X, y)\n",
    "\n",
    "# Create a dataframe new_data from current_data that has only the relevant predictors \n",
    "new_data = current_data[[\"age\", \"gender_F\", \"time_since_last_gift\"]]\n",
    "\n",
    "# Make a prediction for each observation in new_data and assign it to predictions\n",
    "predictions = logreg.predict_proba(new_data)\n",
    "print(predictions[0:5])\n",
    "\n",
    "# Sort the predictions by the calculated probability column\n",
    "predictions_sorted = predictions.sort([\"probability\"])\n",
    "\n",
    "# Print the row of predictions_sorted that has the donor that is most likely to donate\n",
    "print(predictions_sorted.tail(1))\n",
    "# head() would give the donor that is least likely to donate "
   ]
  }
 ],
 "metadata": {
  "kernelspec": {
   "display_name": "Python 3 (ipykernel)",
   "language": "python",
   "name": "python3"
  },
  "language_info": {
   "codemirror_mode": {
    "name": "ipython",
    "version": 3
   },
   "file_extension": ".py",
   "mimetype": "text/x-python",
   "name": "python",
   "nbconvert_exporter": "python",
   "pygments_lexer": "ipython3",
   "version": "3.9.7"
  }
 },
 "nbformat": 4,
 "nbformat_minor": 5
}
